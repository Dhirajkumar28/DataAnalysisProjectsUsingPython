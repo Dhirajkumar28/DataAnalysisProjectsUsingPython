{
 "cells": [
  {
   "cell_type": "markdown",
   "id": "c148778f",
   "metadata": {},
   "source": [
    "# Taj Hotel Reviews Sentiment Analysis"
   ]
  },
  {
   "cell_type": "markdown",
   "id": "aae8180a",
   "metadata": {},
   "source": [
    "Whenever we are looking for hotels for vacation or travel , we always prefer a hotel know for its services. The best way to find out Whether a Hotel is right for you or not is to find out what people are saying about the hotel who have stayed there before. Now it is very dificult to read the experience of each person who has given their opinion on the services of the hotel"
   ]
  },
  {
   "cell_type": "code",
   "execution_count": 43,
   "id": "6d3eab90",
   "metadata": {},
   "outputs": [],
   "source": [
    "import numpy as np\n",
    "import pandas as pd\n"
   ]
  },
  {
   "cell_type": "code",
   "execution_count": 44,
   "id": "24d563d6",
   "metadata": {},
   "outputs": [
    {
     "data": {
      "text/html": [
       "<div>\n",
       "<style scoped>\n",
       "    .dataframe tbody tr th:only-of-type {\n",
       "        vertical-align: middle;\n",
       "    }\n",
       "\n",
       "    .dataframe tbody tr th {\n",
       "        vertical-align: top;\n",
       "    }\n",
       "\n",
       "    .dataframe thead th {\n",
       "        text-align: right;\n",
       "    }\n",
       "</style>\n",
       "<table border=\"1\" class=\"dataframe\">\n",
       "  <thead>\n",
       "    <tr style=\"text-align: right;\">\n",
       "      <th></th>\n",
       "      <th>Review</th>\n",
       "      <th>Rating</th>\n",
       "    </tr>\n",
       "  </thead>\n",
       "  <tbody>\n",
       "    <tr>\n",
       "      <th>0</th>\n",
       "      <td>nice hotel expensive parking got good deal sta...</td>\n",
       "      <td>4</td>\n",
       "    </tr>\n",
       "    <tr>\n",
       "      <th>1</th>\n",
       "      <td>ok nothing special charge diamond member hilto...</td>\n",
       "      <td>2</td>\n",
       "    </tr>\n",
       "    <tr>\n",
       "      <th>2</th>\n",
       "      <td>nice rooms not 4* experience hotel monaco seat...</td>\n",
       "      <td>3</td>\n",
       "    </tr>\n",
       "    <tr>\n",
       "      <th>3</th>\n",
       "      <td>unique, great stay, wonderful time hotel monac...</td>\n",
       "      <td>5</td>\n",
       "    </tr>\n",
       "    <tr>\n",
       "      <th>4</th>\n",
       "      <td>great stay great stay, went seahawk game aweso...</td>\n",
       "      <td>5</td>\n",
       "    </tr>\n",
       "  </tbody>\n",
       "</table>\n",
       "</div>"
      ],
      "text/plain": [
       "                                              Review  Rating\n",
       "0  nice hotel expensive parking got good deal sta...       4\n",
       "1  ok nothing special charge diamond member hilto...       2\n",
       "2  nice rooms not 4* experience hotel monaco seat...       3\n",
       "3  unique, great stay, wonderful time hotel monac...       5\n",
       "4  great stay great stay, went seahawk game aweso...       5"
      ]
     },
     "execution_count": 44,
     "metadata": {},
     "output_type": "execute_result"
    }
   ],
   "source": [
    "df = pd.read_csv(\"C:\\\\Users\\\\DHIRAJ\\\\Desktop\\\\Projects\\\\P3\\\\hotel.csv\")\n",
    "df.head()"
   ]
  },
  {
   "cell_type": "code",
   "execution_count": 45,
   "id": "113179c9",
   "metadata": {},
   "outputs": [
    {
     "data": {
      "text/plain": [
       "Rating\n",
       "5    9054\n",
       "4    6039\n",
       "3    2184\n",
       "2    1793\n",
       "1    1421\n",
       "Name: count, dtype: int64"
      ]
     },
     "execution_count": 45,
     "metadata": {},
     "output_type": "execute_result"
    }
   ],
   "source": [
    "ratings = df['Rating'].value_counts()\n",
    "ratings"
   ]
  },
  {
   "cell_type": "code",
   "execution_count": 46,
   "id": "998675fe",
   "metadata": {},
   "outputs": [
    {
     "data": {
      "text/plain": [
       "Index([5, 4, 3, 2, 1], dtype='int64', name='Rating')"
      ]
     },
     "execution_count": 46,
     "metadata": {},
     "output_type": "execute_result"
    }
   ],
   "source": [
    "numbers = rating.index\n",
    "numbers"
   ]
  },
  {
   "cell_type": "code",
   "execution_count": 47,
   "id": "5ae590db",
   "metadata": {},
   "outputs": [
    {
     "data": {
      "text/plain": [
       "array([9054, 6039, 2184, 1793, 1421], dtype=int64)"
      ]
     },
     "execution_count": 47,
     "metadata": {},
     "output_type": "execute_result"
    }
   ],
   "source": [
    "quantity = rating.values\n",
    "quantity"
   ]
  },
  {
   "cell_type": "code",
   "execution_count": 48,
   "id": "cb7498b2",
   "metadata": {},
   "outputs": [],
   "source": [
    "import matplotlib.pyplot as plt\n",
    "import seaborn as sns\n"
   ]
  },
  {
   "cell_type": "code",
   "execution_count": 49,
   "id": "86762b99",
   "metadata": {},
   "outputs": [
    {
     "data": {
      "image/png": "[encoded data removed]",
      "text/plain": [
       "<Figure size 640x480 with 1 Axes>"
      ]
     },
     "metadata": {},
     "output_type": "display_data"
    }
   ],
   "source": [
    "plt.pie(quantity , labels = numbers )\n",
    "hole = plt.Circle((0,0), 0.5 , color = \"white\")\n",
    "fig = plt.gcf()\n",
    "fig.gca().add_artist(hole)\n",
    "plt.title(\"Taj Hotel Ratting\", fontsize=20)\n",
    "plt.show()"
   ]
  },
  {
   "cell_type": "code",
   "execution_count": 53,
   "id": "971d56c7",
   "metadata": {},
   "outputs": [
    {
     "name": "stderr",
     "output_type": "stream",
     "text": [
      "[nltk_data] Downloading package vader_lexicon to\n",
      "[nltk_data]     C:\\Users\\DHIRAJ\\AppData\\Roaming\\nltk_data...\n"
     ]
    },
    {
     "data": {
      "text/plain": [
       "True"
      ]
     },
     "execution_count": 53,
     "metadata": {},
     "output_type": "execute_result"
    }
   ],
   "source": [
    "import nltk\n",
    "\n",
    "nltk.download('vader_lexicon')"
   ]
  },
  {
   "cell_type": "code",
   "execution_count": 54,
   "id": "b9adeb08",
   "metadata": {},
   "outputs": [],
   "source": [
    "\n",
    "from nltk.sentiment.vader import SentimentIntensityAnalyzer "
   ]
  },
  {
   "cell_type": "code",
   "execution_count": 55,
   "id": "e83a3ede",
   "metadata": {},
   "outputs": [],
   "source": [
    "sentiments = SentimentIntensityAnalyzer() "
   ]
  },
  {
   "cell_type": "code",
   "execution_count": 59,
   "id": "9db05095",
   "metadata": {},
   "outputs": [],
   "source": [
    "\n",
    "df = pd.read_csv(\"C:\\\\Users\\\\DHIRAJ\\\\Desktop\\\\Projects\\\\P3\\\\hotel.csv\")\n",
    "\n",
    "df[\"Positive\"] = [sentiments.polarity_scores(i)['pos'] for i in df[\"Review\"]]\n",
    "df[\"Negative\"] = [sentiments.polarity_scores(i)['neg'] for i in df[\"Review\"]]\n",
    "df[\"Neutral\"] = [sentiments.polarity_scores(i)['neu'] for i in df[\"Review\"]]"
   ]
  },
  {
   "cell_type": "code",
   "execution_count": 61,
   "id": "fcb0b38d",
   "metadata": {},
   "outputs": [
    {
     "data": {
      "text/html": [
       "<div>\n",
       "<style scoped>\n",
       "    .dataframe tbody tr th:only-of-type {\n",
       "        vertical-align: middle;\n",
       "    }\n",
       "\n",
       "    .dataframe tbody tr th {\n",
       "        vertical-align: top;\n",
       "    }\n",
       "\n",
       "    .dataframe thead th {\n",
       "        text-align: right;\n",
       "    }\n",
       "</style>\n",
       "<table border=\"1\" class=\"dataframe\">\n",
       "  <thead>\n",
       "    <tr style=\"text-align: right;\">\n",
       "      <th></th>\n",
       "      <th>Review</th>\n",
       "      <th>Rating</th>\n",
       "      <th>Positive</th>\n",
       "      <th>Negative</th>\n",
       "      <th>Neutral</th>\n",
       "    </tr>\n",
       "  </thead>\n",
       "  <tbody>\n",
       "    <tr>\n",
       "      <th>0</th>\n",
       "      <td>nice hotel expensive parking got good deal sta...</td>\n",
       "      <td>4</td>\n",
       "      <td>0.285</td>\n",
       "      <td>0.072</td>\n",
       "      <td>0.643</td>\n",
       "    </tr>\n",
       "    <tr>\n",
       "      <th>1</th>\n",
       "      <td>ok nothing special charge diamond member hilto...</td>\n",
       "      <td>2</td>\n",
       "      <td>0.189</td>\n",
       "      <td>0.110</td>\n",
       "      <td>0.701</td>\n",
       "    </tr>\n",
       "    <tr>\n",
       "      <th>2</th>\n",
       "      <td>nice rooms not 4* experience hotel monaco seat...</td>\n",
       "      <td>3</td>\n",
       "      <td>0.219</td>\n",
       "      <td>0.081</td>\n",
       "      <td>0.700</td>\n",
       "    </tr>\n",
       "    <tr>\n",
       "      <th>3</th>\n",
       "      <td>unique, great stay, wonderful time hotel monac...</td>\n",
       "      <td>5</td>\n",
       "      <td>0.385</td>\n",
       "      <td>0.060</td>\n",
       "      <td>0.555</td>\n",
       "    </tr>\n",
       "    <tr>\n",
       "      <th>4</th>\n",
       "      <td>great stay great stay, went seahawk game aweso...</td>\n",
       "      <td>5</td>\n",
       "      <td>0.221</td>\n",
       "      <td>0.135</td>\n",
       "      <td>0.643</td>\n",
       "    </tr>\n",
       "  </tbody>\n",
       "</table>\n",
       "</div>"
      ],
      "text/plain": [
       "                                              Review  Rating  Positive  \\\n",
       "0  nice hotel expensive parking got good deal sta...       4     0.285   \n",
       "1  ok nothing special charge diamond member hilto...       2     0.189   \n",
       "2  nice rooms not 4* experience hotel monaco seat...       3     0.219   \n",
       "3  unique, great stay, wonderful time hotel monac...       5     0.385   \n",
       "4  great stay great stay, went seahawk game aweso...       5     0.221   \n",
       "\n",
       "   Negative  Neutral  \n",
       "0     0.072    0.643  \n",
       "1     0.110    0.701  \n",
       "2     0.081    0.700  \n",
       "3     0.060    0.555  \n",
       "4     0.135    0.643  "
      ]
     },
     "execution_count": 61,
     "metadata": {},
     "output_type": "execute_result"
    }
   ],
   "source": [
    "df.head()"
   ]
  },
  {
   "cell_type": "markdown",
   "id": "dd98e621",
   "metadata": {},
   "source": [
    "Accourding to the Reviews , hotel huest seem satisfied with the services . Now lets have a look how most people think about hotel services based on the sentiment of their reviews"
   ]
  },
  {
   "cell_type": "code",
   "execution_count": 63,
   "id": "0609c210",
   "metadata": {},
   "outputs": [],
   "source": [
    "x = sum(df['Positive'])\n",
    "y = sum(df['Negative'])\n",
    "z = sum(df['Neutral'])\n",
    "\n"
   ]
  },
  {
   "cell_type": "code",
   "execution_count": 64,
   "id": "8f3aa1dc",
   "metadata": {},
   "outputs": [
    {
     "name": "stdout",
     "output_type": "stream",
     "text": [
      "Total Positive Reviews :- 6359.91000000002\n",
      "Total Negative Reviews :- 1473.4750000000038\n",
      "Total Neutral Reviews :- 12657.627999999937\n"
     ]
    }
   ],
   "source": [
    "print(\"Total Positive Reviews :-\",x)\n",
    "print(\"Total Negative Reviews :-\",y)\n",
    "print(\"Total Neutral Reviews :-\",z)"
   ]
  },
  {
   "cell_type": "code",
   "execution_count": 65,
   "id": "0b2a881e",
   "metadata": {},
   "outputs": [
    {
     "name": "stdout",
     "output_type": "stream",
     "text": [
      "Neutral 😑\n"
     ]
    }
   ],
   "source": [
    "def senti_score(a,b,c):\n",
    "    if (a>b) and (a>c):\n",
    "        print (\"Positive 😍\")\n",
    "    elif (b>a) and (b>c):\n",
    "        print(\"Negative😫 \")\n",
    "    else:\n",
    "        print(\"Neutral 😑\")\n",
    "senti_score(x,y,z)"
   ]
  },
  {
   "cell_type": "code",
   "execution_count": null,
   "id": "af36f7e1",
   "metadata": {},
   "outputs": [],
   "source": []
  }
 ],
 "metadata": {
  "kernelspec": {
   "display_name": "Python 3 (ipykernel)",
   "language": "python",
   "name": "python3"
  },
  "language_info": {
   "codemirror_mode": {
    "name": "ipython",
    "version": 3
   },
   "file_extension": ".py",
   "mimetype": "text/x-python",
   "name": "python",
   "nbconvert_exporter": "python",
   "pygments_lexer": "ipython3",
   "version": "3.11.5"
  }
 },
 "nbformat": 4,
 "nbformat_minor": 5
}
